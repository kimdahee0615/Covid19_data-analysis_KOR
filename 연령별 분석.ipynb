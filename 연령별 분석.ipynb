{
 "cells": [
  {
   "cell_type": "code",
   "execution_count": 2,
   "metadata": {},
   "outputs": [],
   "source": [
    "import numpy as np\n",
    "import seaborn as sns\n",
    "import pandas as pd\n",
    "import matplotlib\n",
    "import matplotlib.pyplot as plt\n",
    "from matplotlib import font_manager,rc"
   ]
  },
  {
   "cell_type": "code",
   "execution_count": 3,
   "metadata": {},
   "outputs": [],
   "source": [
    "#font 경로 설정\n",
    "font_path = \"C:/Windows/Fonts/HMFMMUEX.ttc\"\n",
    "#font 이름 불러오기\n",
    "font_name = font_manager.FontProperties(fname=font_path).get_name()\n",
    "#font 설정\n",
    "matplotlib.rc('font',family=font_name)"
   ]
  },
  {
   "cell_type": "code",
   "execution_count": 4,
   "metadata": {},
   "outputs": [
    {
     "name": "stdout",
     "output_type": "stream",
     "text": [
      "        time    confirmed    deceased\n",
      "count  819.0   819.000000  819.000000\n",
      "mean     0.0  1094.926740   20.974359\n",
      "std      0.0   785.847368   34.012339\n",
      "min      0.0    32.000000    0.000000\n",
      "25%      0.0   490.000000    0.000000\n",
      "50%      0.0   975.000000    3.000000\n",
      "75%      0.0  1422.500000   28.000000\n",
      "max      0.0  3176.000000  131.000000\n"
     ]
    },
    {
     "data": {
      "text/html": [
       "<div>\n",
       "<style scoped>\n",
       "    .dataframe tbody tr th:only-of-type {\n",
       "        vertical-align: middle;\n",
       "    }\n",
       "\n",
       "    .dataframe tbody tr th {\n",
       "        vertical-align: top;\n",
       "    }\n",
       "\n",
       "    .dataframe thead th {\n",
       "        text-align: right;\n",
       "    }\n",
       "</style>\n",
       "<table border=\"1\" class=\"dataframe\">\n",
       "  <thead>\n",
       "    <tr style=\"text-align: right;\">\n",
       "      <th></th>\n",
       "      <th>date</th>\n",
       "      <th>time</th>\n",
       "      <th>age</th>\n",
       "      <th>confirmed</th>\n",
       "      <th>deceased</th>\n",
       "    </tr>\n",
       "  </thead>\n",
       "  <tbody>\n",
       "    <tr>\n",
       "      <th>0</th>\n",
       "      <td>2020-03-02</td>\n",
       "      <td>0</td>\n",
       "      <td>0s</td>\n",
       "      <td>32</td>\n",
       "      <td>0</td>\n",
       "    </tr>\n",
       "    <tr>\n",
       "      <th>1</th>\n",
       "      <td>2020-03-02</td>\n",
       "      <td>0</td>\n",
       "      <td>10s</td>\n",
       "      <td>169</td>\n",
       "      <td>0</td>\n",
       "    </tr>\n",
       "    <tr>\n",
       "      <th>2</th>\n",
       "      <td>2020-03-02</td>\n",
       "      <td>0</td>\n",
       "      <td>20s</td>\n",
       "      <td>1235</td>\n",
       "      <td>0</td>\n",
       "    </tr>\n",
       "    <tr>\n",
       "      <th>3</th>\n",
       "      <td>2020-03-02</td>\n",
       "      <td>0</td>\n",
       "      <td>30s</td>\n",
       "      <td>506</td>\n",
       "      <td>1</td>\n",
       "    </tr>\n",
       "    <tr>\n",
       "      <th>4</th>\n",
       "      <td>2020-03-02</td>\n",
       "      <td>0</td>\n",
       "      <td>40s</td>\n",
       "      <td>633</td>\n",
       "      <td>1</td>\n",
       "    </tr>\n",
       "    <tr>\n",
       "      <th>...</th>\n",
       "      <td>...</td>\n",
       "      <td>...</td>\n",
       "      <td>...</td>\n",
       "      <td>...</td>\n",
       "      <td>...</td>\n",
       "    </tr>\n",
       "    <tr>\n",
       "      <th>814</th>\n",
       "      <td>2020-05-31</td>\n",
       "      <td>0</td>\n",
       "      <td>40s</td>\n",
       "      <td>1521</td>\n",
       "      <td>3</td>\n",
       "    </tr>\n",
       "    <tr>\n",
       "      <th>815</th>\n",
       "      <td>2020-05-31</td>\n",
       "      <td>0</td>\n",
       "      <td>50s</td>\n",
       "      <td>2039</td>\n",
       "      <td>15</td>\n",
       "    </tr>\n",
       "    <tr>\n",
       "      <th>816</th>\n",
       "      <td>2020-05-31</td>\n",
       "      <td>0</td>\n",
       "      <td>60s</td>\n",
       "      <td>1405</td>\n",
       "      <td>39</td>\n",
       "    </tr>\n",
       "    <tr>\n",
       "      <th>817</th>\n",
       "      <td>2020-05-31</td>\n",
       "      <td>0</td>\n",
       "      <td>70s</td>\n",
       "      <td>725</td>\n",
       "      <td>80</td>\n",
       "    </tr>\n",
       "    <tr>\n",
       "      <th>818</th>\n",
       "      <td>2020-05-31</td>\n",
       "      <td>0</td>\n",
       "      <td>80s</td>\n",
       "      <td>498</td>\n",
       "      <td>131</td>\n",
       "    </tr>\n",
       "  </tbody>\n",
       "</table>\n",
       "<p>819 rows × 5 columns</p>\n",
       "</div>"
      ],
      "text/plain": [
       "           date  time  age  confirmed  deceased\n",
       "0    2020-03-02     0   0s         32         0\n",
       "1    2020-03-02     0  10s        169         0\n",
       "2    2020-03-02     0  20s       1235         0\n",
       "3    2020-03-02     0  30s        506         1\n",
       "4    2020-03-02     0  40s        633         1\n",
       "..          ...   ...  ...        ...       ...\n",
       "814  2020-05-31     0  40s       1521         3\n",
       "815  2020-05-31     0  50s       2039        15\n",
       "816  2020-05-31     0  60s       1405        39\n",
       "817  2020-05-31     0  70s        725        80\n",
       "818  2020-05-31     0  80s        498       131\n",
       "\n",
       "[819 rows x 5 columns]"
      ]
     },
     "execution_count": 4,
     "metadata": {},
     "output_type": "execute_result"
    }
   ],
   "source": [
    "#data loads\n",
    "df=pd.read_csv('C:/Users/PJH/OneDrive/Python/Example/covid19/Covid19_dataset/TimeAge.csv')\n",
    "print(df.describe())\n",
    "df"
   ]
  },
  {
   "cell_type": "code",
   "execution_count": 10,
   "metadata": {},
   "outputs": [
    {
     "data": {
      "text/html": [
       "<div>\n",
       "<style scoped>\n",
       "    .dataframe tbody tr th:only-of-type {\n",
       "        vertical-align: middle;\n",
       "    }\n",
       "\n",
       "    .dataframe tbody tr th {\n",
       "        vertical-align: top;\n",
       "    }\n",
       "\n",
       "    .dataframe thead th {\n",
       "        text-align: right;\n",
       "    }\n",
       "</style>\n",
       "<table border=\"1\" class=\"dataframe\">\n",
       "  <thead>\n",
       "    <tr style=\"text-align: right;\">\n",
       "      <th></th>\n",
       "      <th>date</th>\n",
       "      <th>confirmed</th>\n",
       "    </tr>\n",
       "  </thead>\n",
       "  <tbody>\n",
       "    <tr>\n",
       "      <th>1</th>\n",
       "      <td>2020-03-02</td>\n",
       "      <td>169</td>\n",
       "    </tr>\n",
       "    <tr>\n",
       "      <th>10</th>\n",
       "      <td>2020-03-03</td>\n",
       "      <td>204</td>\n",
       "    </tr>\n",
       "    <tr>\n",
       "      <th>19</th>\n",
       "      <td>2020-03-04</td>\n",
       "      <td>233</td>\n",
       "    </tr>\n",
       "    <tr>\n",
       "      <th>28</th>\n",
       "      <td>2020-03-05</td>\n",
       "      <td>257</td>\n",
       "    </tr>\n",
       "    <tr>\n",
       "      <th>37</th>\n",
       "      <td>2020-03-06</td>\n",
       "      <td>292</td>\n",
       "    </tr>\n",
       "    <tr>\n",
       "      <th>...</th>\n",
       "      <td>...</td>\n",
       "      <td>...</td>\n",
       "    </tr>\n",
       "    <tr>\n",
       "      <th>775</th>\n",
       "      <td>2020-05-27</td>\n",
       "      <td>640</td>\n",
       "    </tr>\n",
       "    <tr>\n",
       "      <th>784</th>\n",
       "      <td>2020-05-28</td>\n",
       "      <td>644</td>\n",
       "    </tr>\n",
       "    <tr>\n",
       "      <th>793</th>\n",
       "      <td>2020-05-29</td>\n",
       "      <td>650</td>\n",
       "    </tr>\n",
       "    <tr>\n",
       "      <th>802</th>\n",
       "      <td>2020-05-30</td>\n",
       "      <td>655</td>\n",
       "    </tr>\n",
       "    <tr>\n",
       "      <th>811</th>\n",
       "      <td>2020-05-31</td>\n",
       "      <td>655</td>\n",
       "    </tr>\n",
       "  </tbody>\n",
       "</table>\n",
       "<p>91 rows × 2 columns</p>\n",
       "</div>"
      ],
      "text/plain": [
       "           date  confirmed\n",
       "1    2020-03-02        169\n",
       "10   2020-03-03        204\n",
       "19   2020-03-04        233\n",
       "28   2020-03-05        257\n",
       "37   2020-03-06        292\n",
       "..          ...        ...\n",
       "775  2020-05-27        640\n",
       "784  2020-05-28        644\n",
       "793  2020-05-29        650\n",
       "802  2020-05-30        655\n",
       "811  2020-05-31        655\n",
       "\n",
       "[91 rows x 2 columns]"
      ]
     },
     "execution_count": 10,
     "metadata": {},
     "output_type": "execute_result"
    }
   ],
   "source": [
    "A10 = df.loc[df.age=='10s',['date', 'confirmed']] # 특정 칼럼명에 접근할 때, df['columns_name'] or df.columns\n",
    "A20 = df.loc[df.age=='20s',['date', 'confirmed']]\n",
    "A30 = df.loc[df.age=='30s',['date', 'confirmed']]\n",
    "A40 = df.loc[df.age=='40s',['date', 'confirmed']]\n",
    "A50 = df.loc[df.age=='50s',['date', 'confirmed']]\n",
    "A60 = df.loc[df.age=='60s',['date', 'confirmed']]\n",
    "A70 = df.loc[df.age=='70s',['date', 'confirmed']]\n",
    "A80 = df.loc[df.age=='80s',['date', 'confirmed']]\n",
    "\n",
    "\"\"\" \n",
    "위와 같이 같은 형식의 데이터프레임의 경우 아래와 같이 반복문으로 처리하는 것이 유용\n",
    "Age = []\n",
    "for i in range(8):\n",
    "    i += 10\n",
    "    age = df.loc[df.age=='{}s'.format(i),['date', 'confirmed']]\n",
    "    Age.append(age)\n",
    "\"\"\"\n",
    "A10"
   ]
  },
  {
   "cell_type": "code",
   "execution_count": 5,
   "metadata": {},
   "outputs": [
    {
     "data": {
      "image/png": "[encoded data removed]",
      "text/plain": [
       "<Figure size 432x288 with 1 Axes>"
      ]
     },
     "metadata": {
      "needs_background": "light"
     },
     "output_type": "display_data"
    }
   ],
   "source": [
    "col = ['#34DDDD', '#EC651F', '#336699', '#E94976', '#FFE852', '#66CCFF', '#003399', '#028482', '#FF0000']\n",
    "\n",
    "fig, ax =plt.subplots()\n",
    "plt.title('연령별 확진사례 변화 추이')\n",
    "ax.set_xticks(np.arange(0,150,30))\n",
    "ax.set_yticks(np.arange(0,5000,500))\n",
    "ax.plot(A10['date'], A10['confirmed'], label='10대', color=col[1])\n",
    "ax.plot(A20['date'], A20['confirmed'], label='20대', color=col[2])\n",
    "ax.plot(A30['date'], A30['confirmed'], label='30대', color=col[3])\n",
    "ax.plot(A40['date'], A40['confirmed'], label='40대', color=col[4])\n",
    "ax.plot(A50['date'], A50['confirmed'], label='50대', color=col[5])\n",
    "ax.plot(A60['date'], A60['confirmed'], label='60대', color=col[6])\n",
    "ax.plot(A70['date'], A70['confirmed'], label='70대', color=col[7])\n",
    "ax.plot(A80['date'], A80['confirmed'], label='80대', color=col[8])\n",
    "ax.set_xlabel('day')\n",
    "ax.set_ylabel('confirmed')\n",
    "ax.legend(loc='upper left', fontsize=11, bbox_to_anchor=(1,1))\n",
    "plt.grid()\n",
    "plt.tight_layout()\n",
    "plt.show()"
   ]
  },
  {
   "cell_type": "code",
   "execution_count": 6,
   "metadata": {},
   "outputs": [],
   "source": [
    "Final_confirmed = (A10.iloc[-1,1],\n",
    "                   A20.iloc[-1,1],\n",
    "                   A30.iloc[-1,1],\n",
    "                   A40.iloc[-1,1],\n",
    "                   A50.iloc[-1,1],\n",
    "                   A60.iloc[-1,1],\n",
    "                   A70.iloc[-1,1],\n",
    "                   A80.iloc[-1,1])\n",
    "categories = ['10대', '20대', '30대', '40대', '50대', '60대', '70대', '80대']"
   ]
  },
  {
   "cell_type": "code",
   "execution_count": 7,
   "metadata": {},
   "outputs": [
    {
     "data": {
      "image/png": "[encoded data removed]",
      "text/plain": [
       "<Figure size 432x288 with 1 Axes>"
      ]
     },
     "metadata": {},
     "output_type": "display_data"
    }
   ],
   "source": [
    "fig, ax =plt.subplots()\n",
    "plt.title('Confirmation rate by age')\n",
    "ax.pie(Final_confirmed, colors=col, explode=(0,0.05,0.0,0,0,0,0,0),labels=categories, autopct='%0.1f%%')\n",
    "ax.legend(categories, loc='upper left', fontsize=11, bbox_to_anchor=(1,1))\n",
    "plt.tight_layout()\n",
    "plt.grid('whitegrid')\n",
    "plt.show()"
   ]
  },
  {
   "cell_type": "markdown",
   "metadata": {},
   "source": [
    "### 연령별 감염원인 분석"
   ]
  },
  {
   "cell_type": "code",
   "execution_count": 9,
   "metadata": {},
   "outputs": [
    {
     "name": "stdout",
     "output_type": "stream",
     "text": [
      "         patient_id    global_num  infection_order\n",
      "count  4.004000e+03   2806.000000        31.000000\n",
      "mean   3.220082e+09   7570.577691         2.387097\n",
      "std    2.169859e+09   3464.522977         1.453213\n",
      "min    1.000000e+09      1.000000         1.000000\n",
      "25%    1.100000e+09   5415.500000         1.000000\n",
      "50%    2.000001e+09   8686.000000         2.000000\n",
      "75%    6.001000e+09  10351.750000         3.000000\n",
      "max    7.000000e+09  11499.000000         6.000000\n"
     ]
    },
    {
     "data": {
      "text/html": [
       "<div>\n",
       "<style scoped>\n",
       "    .dataframe tbody tr th:only-of-type {\n",
       "        vertical-align: middle;\n",
       "    }\n",
       "\n",
       "    .dataframe tbody tr th {\n",
       "        vertical-align: top;\n",
       "    }\n",
       "\n",
       "    .dataframe thead th {\n",
       "        text-align: right;\n",
       "    }\n",
       "</style>\n",
       "<table border=\"1\" class=\"dataframe\">\n",
       "  <thead>\n",
       "    <tr style=\"text-align: right;\">\n",
       "      <th></th>\n",
       "      <th>patient_id</th>\n",
       "      <th>global_num</th>\n",
       "      <th>sex</th>\n",
       "      <th>birth_year</th>\n",
       "      <th>age</th>\n",
       "      <th>country</th>\n",
       "      <th>province</th>\n",
       "      <th>city</th>\n",
       "      <th>disease</th>\n",
       "      <th>infection_case</th>\n",
       "      <th>infection_order</th>\n",
       "      <th>infected_by</th>\n",
       "      <th>contact_number</th>\n",
       "      <th>symptom_onset_date</th>\n",
       "      <th>confirmed_date</th>\n",
       "      <th>released_date</th>\n",
       "      <th>deceased_date</th>\n",
       "      <th>state</th>\n",
       "    </tr>\n",
       "  </thead>\n",
       "  <tbody>\n",
       "    <tr>\n",
       "      <th>0</th>\n",
       "      <td>1000000001</td>\n",
       "      <td>2.0</td>\n",
       "      <td>male</td>\n",
       "      <td>1964</td>\n",
       "      <td>50s</td>\n",
       "      <td>Korea</td>\n",
       "      <td>Seoul</td>\n",
       "      <td>Gangseo-gu</td>\n",
       "      <td>NaN</td>\n",
       "      <td>overseas inflow</td>\n",
       "      <td>1.0</td>\n",
       "      <td>NaN</td>\n",
       "      <td>75</td>\n",
       "      <td>2020-01-22</td>\n",
       "      <td>2020-01-23</td>\n",
       "      <td>2020-02-05</td>\n",
       "      <td>NaN</td>\n",
       "      <td>released</td>\n",
       "    </tr>\n",
       "    <tr>\n",
       "      <th>1</th>\n",
       "      <td>1000000002</td>\n",
       "      <td>5.0</td>\n",
       "      <td>male</td>\n",
       "      <td>1987</td>\n",
       "      <td>30s</td>\n",
       "      <td>Korea</td>\n",
       "      <td>Seoul</td>\n",
       "      <td>Jungnang-gu</td>\n",
       "      <td>NaN</td>\n",
       "      <td>overseas inflow</td>\n",
       "      <td>1.0</td>\n",
       "      <td>NaN</td>\n",
       "      <td>31</td>\n",
       "      <td>NaN</td>\n",
       "      <td>2020-01-30</td>\n",
       "      <td>2020-03-02</td>\n",
       "      <td>NaN</td>\n",
       "      <td>released</td>\n",
       "    </tr>\n",
       "    <tr>\n",
       "      <th>2</th>\n",
       "      <td>1000000003</td>\n",
       "      <td>6.0</td>\n",
       "      <td>male</td>\n",
       "      <td>1964</td>\n",
       "      <td>50s</td>\n",
       "      <td>Korea</td>\n",
       "      <td>Seoul</td>\n",
       "      <td>Jongno-gu</td>\n",
       "      <td>NaN</td>\n",
       "      <td>contact with patient</td>\n",
       "      <td>2.0</td>\n",
       "      <td>2002000001</td>\n",
       "      <td>17</td>\n",
       "      <td>NaN</td>\n",
       "      <td>2020-01-30</td>\n",
       "      <td>2020-02-19</td>\n",
       "      <td>NaN</td>\n",
       "      <td>released</td>\n",
       "    </tr>\n",
       "    <tr>\n",
       "      <th>3</th>\n",
       "      <td>1000000004</td>\n",
       "      <td>7.0</td>\n",
       "      <td>male</td>\n",
       "      <td>1991</td>\n",
       "      <td>20s</td>\n",
       "      <td>Korea</td>\n",
       "      <td>Seoul</td>\n",
       "      <td>Mapo-gu</td>\n",
       "      <td>NaN</td>\n",
       "      <td>overseas inflow</td>\n",
       "      <td>1.0</td>\n",
       "      <td>NaN</td>\n",
       "      <td>9</td>\n",
       "      <td>2020-01-26</td>\n",
       "      <td>2020-01-30</td>\n",
       "      <td>2020-02-15</td>\n",
       "      <td>NaN</td>\n",
       "      <td>released</td>\n",
       "    </tr>\n",
       "    <tr>\n",
       "      <th>4</th>\n",
       "      <td>1000000005</td>\n",
       "      <td>9.0</td>\n",
       "      <td>female</td>\n",
       "      <td>1992</td>\n",
       "      <td>20s</td>\n",
       "      <td>Korea</td>\n",
       "      <td>Seoul</td>\n",
       "      <td>Seongbuk-gu</td>\n",
       "      <td>NaN</td>\n",
       "      <td>contact with patient</td>\n",
       "      <td>2.0</td>\n",
       "      <td>1000000002</td>\n",
       "      <td>2</td>\n",
       "      <td>NaN</td>\n",
       "      <td>2020-01-31</td>\n",
       "      <td>2020-02-24</td>\n",
       "      <td>NaN</td>\n",
       "      <td>released</td>\n",
       "    </tr>\n",
       "  </tbody>\n",
       "</table>\n",
       "</div>"
      ],
      "text/plain": [
       "   patient_id  global_num     sex birth_year  age country province  \\\n",
       "0  1000000001         2.0    male       1964  50s   Korea    Seoul   \n",
       "1  1000000002         5.0    male       1987  30s   Korea    Seoul   \n",
       "2  1000000003         6.0    male       1964  50s   Korea    Seoul   \n",
       "3  1000000004         7.0    male       1991  20s   Korea    Seoul   \n",
       "4  1000000005         9.0  female       1992  20s   Korea    Seoul   \n",
       "\n",
       "          city disease        infection_case  infection_order infected_by  \\\n",
       "0   Gangseo-gu     NaN       overseas inflow              1.0         NaN   \n",
       "1  Jungnang-gu     NaN       overseas inflow              1.0         NaN   \n",
       "2    Jongno-gu     NaN  contact with patient              2.0  2002000001   \n",
       "3      Mapo-gu     NaN       overseas inflow              1.0         NaN   \n",
       "4  Seongbuk-gu     NaN  contact with patient              2.0  1000000002   \n",
       "\n",
       "  contact_number symptom_onset_date confirmed_date released_date  \\\n",
       "0             75         2020-01-22     2020-01-23    2020-02-05   \n",
       "1             31                NaN     2020-01-30    2020-03-02   \n",
       "2             17                NaN     2020-01-30    2020-02-19   \n",
       "3              9         2020-01-26     2020-01-30    2020-02-15   \n",
       "4              2                NaN     2020-01-31    2020-02-24   \n",
       "\n",
       "  deceased_date     state  \n",
       "0           NaN  released  \n",
       "1           NaN  released  \n",
       "2           NaN  released  \n",
       "3           NaN  released  \n",
       "4           NaN  released  "
      ]
     },
     "execution_count": 9,
     "metadata": {},
     "output_type": "execute_result"
    }
   ],
   "source": [
    "df=pd.read_csv('C:/Users/PJH/OneDrive/Python/Example/covid19/Covid19_dataset/Patientinfo.csv')\n",
    "print(df.describe())\n",
    "df.head()"
   ]
  },
  {
   "cell_type": "code",
   "execution_count": 10,
   "metadata": {},
   "outputs": [],
   "source": [
    "#연령별 데이터 분리\n",
    "A1 = df.loc[df.age=='10s' ,['age', 'infection_case']]\n",
    "A2 = df.loc[df.age=='20s' ,['age', 'infection_case']]\n",
    "A3 = df.loc[df.age=='30s' ,['age', 'infection_case']]\n",
    "A4 = df.loc[df.age=='40s' ,['age', 'infection_case']]\n",
    "A5 = df.loc[df.age=='50s' ,['age', 'infection_case']]\n",
    "A6 = df.loc[df.age=='60s' ,['age', 'infection_case']]\n",
    "A7 = df.loc[df.age=='70s' ,['age', 'infection_case']]\n",
    "A8 = df.loc[df.age=='80s' ,['age', 'infection_case']]"
   ]
  },
  {
   "cell_type": "code",
   "execution_count": 11,
   "metadata": {},
   "outputs": [],
   "source": [
    "#연령별 감염원 사례 수 count 및 sort 하여 상위리스트 5개씩 저장 \n",
    "case_count_A1 = A1['infection_case'].value_counts(sort=True, ascending=False).head()\n",
    "case_count_A2 = A2['infection_case'].value_counts(sort=True, ascending=False).head()\n",
    "case_count_A3 = A3['infection_case'].value_counts(sort=True, ascending=False).head()\n",
    "case_count_A4 = A4['infection_case'].value_counts(sort=True, ascending=False).head()\n",
    "case_count_A5 = A5['infection_case'].value_counts(sort=True, ascending=False).head()\n",
    "case_count_A6 = A6['infection_case'].value_counts(sort=True, ascending=False).head()\n",
    "case_count_A7 = A7['infection_case'].value_counts(sort=True, ascending=False).head()\n",
    "case_count_A8 = A8['infection_case'].value_counts(sort=True, ascending=False).head()"
   ]
  },
  {
   "cell_type": "code",
   "execution_count": 12,
   "metadata": {},
   "outputs": [
    {
     "data": {
      "image/png": "[encoded data removed]",
      "text/plain": [
       "<Figure size 432x288 with 1 Axes>"
      ]
     },
     "metadata": {
      "needs_background": "light"
     },
     "output_type": "display_data"
    },
    {
     "data": {
      "image/png": "[encoded data removed]",
      "text/plain": [
       "<Figure size 432x288 with 1 Axes>"
      ]
     },
     "metadata": {
      "needs_background": "light"
     },
     "output_type": "display_data"
    },
    {
     "data": {
      "image/png": "[encoded data removed]",
      "text/plain": [
       "<Figure size 432x288 with 1 Axes>"
      ]
     },
     "metadata": {
      "needs_background": "light"
     },
     "output_type": "display_data"
    },
    {
     "data": {
      "image/png": "[encoded data removed]",
      "text/plain": [
       "<Figure size 432x288 with 1 Axes>"
      ]
     },
     "metadata": {
      "needs_background": "light"
     },
     "output_type": "display_data"
    },
    {
     "data": {
      "image/png": "[encoded data removed]",
      "text/plain": [
       "<Figure size 432x288 with 1 Axes>"
      ]
     },
     "metadata": {
      "needs_background": "light"
     },
     "output_type": "display_data"
    },
    {
     "data": {
      "image/png": "[encoded data removed]",
      "text/plain": [
       "<Figure size 432x288 with 1 Axes>"
      ]
     },
     "metadata": {
      "needs_background": "light"
     },
     "output_type": "display_data"
    }
   ],
   "source": [
    "\n",
    "plt.figure()\n",
    "case_count_A1.plot(kind='barh',color=col, title='10대 감염사례')\n",
    "plt.figure()\n",
    "case_count_A2.plot(kind='barh',color=col, title='20대 감염사례')\n",
    "plt.figure()\n",
    "case_count_A3.plot(kind='barh',color=col, title='30대 감염사례')\n",
    "plt.figure()\n",
    "case_count_A4.plot(kind='barh',color=col, title='40대 감염사례')\n",
    "plt.figure()\n",
    "case_count_A5.plot(kind='barh',color=col, title='50대 감염사례')\n",
    "plt.figure()\n",
    "case_count_A6.plot(kind='barh',color=col, title='60대 감염사례')\n",
    "plt.show()"
   ]
  },
  {
   "cell_type": "code",
   "execution_count": null,
   "metadata": {},
   "outputs": [],
   "source": []
  },
  {
   "cell_type": "code",
   "execution_count": null,
   "metadata": {},
   "outputs": [],
   "source": []
  }
 ],
 "metadata": {
  "kernelspec": {
   "display_name": "Python 3",
   "language": "python",
   "name": "python3"
  },
  "language_info": {
   "codemirror_mode": {
    "name": "ipython",
    "version": 3
   },
   "file_extension": ".py",
   "mimetype": "text/x-python",
   "name": "python",
   "nbconvert_exporter": "python",
   "pygments_lexer": "ipython3",
   "version": "3.7.3"
  }
 },
 "nbformat": 4,
 "nbformat_minor": 4
}
