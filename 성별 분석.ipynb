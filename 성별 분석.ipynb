{
 "cells": [
  {
   "cell_type": "markdown",
   "metadata": {},
   "source": [
    "### 성별 분석"
   ]
  },
  {
   "cell_type": "code",
   "execution_count": 1,
   "metadata": {},
   "outputs": [],
   "source": [
    "import numpy as np\n",
    "import seaborn as sns\n",
    "import pandas as pd\n",
    "import matplotlib\n",
    "import matplotlib.pyplot as plt\n",
    "from matplotlib import font_manager,rc"
   ]
  },
  {
   "cell_type": "code",
   "execution_count": 2,
   "metadata": {},
   "outputs": [],
   "source": [
    "#font 경로 설정\n",
    "font_path = \"C:/Windows/Fonts/HMFMMUEX.ttc\"\n",
    "#font 이름 불러오기\n",
    "font_name = font_manager.FontProperties(fname=font_path).get_name()\n",
    "#font 설정\n",
    "matplotlib.rc('font',family=font_name)"
   ]
  },
  {
   "cell_type": "code",
   "execution_count": 3,
   "metadata": {},
   "outputs": [],
   "source": [
    "#data loads\n",
    "df=pd.read_csv('TimeGender.csv')"
   ]
  },
  {
   "cell_type": "code",
   "execution_count": 4,
   "metadata": {},
   "outputs": [
    {
     "data": {
      "text/html": [
       "<div>\n",
       "<style scoped>\n",
       "    .dataframe tbody tr th:only-of-type {\n",
       "        vertical-align: middle;\n",
       "    }\n",
       "\n",
       "    .dataframe tbody tr th {\n",
       "        vertical-align: top;\n",
       "    }\n",
       "\n",
       "    .dataframe thead th {\n",
       "        text-align: right;\n",
       "    }\n",
       "</style>\n",
       "<table border=\"1\" class=\"dataframe\">\n",
       "  <thead>\n",
       "    <tr style=\"text-align: right;\">\n",
       "      <th></th>\n",
       "      <th>date</th>\n",
       "      <th>time</th>\n",
       "      <th>sex</th>\n",
       "      <th>confirmed</th>\n",
       "      <th>deceased</th>\n",
       "    </tr>\n",
       "  </thead>\n",
       "  <tbody>\n",
       "    <tr>\n",
       "      <th>0</th>\n",
       "      <td>2020-03-02</td>\n",
       "      <td>0</td>\n",
       "      <td>male</td>\n",
       "      <td>1591</td>\n",
       "      <td>13</td>\n",
       "    </tr>\n",
       "    <tr>\n",
       "      <th>1</th>\n",
       "      <td>2020-03-02</td>\n",
       "      <td>0</td>\n",
       "      <td>female</td>\n",
       "      <td>2621</td>\n",
       "      <td>9</td>\n",
       "    </tr>\n",
       "    <tr>\n",
       "      <th>2</th>\n",
       "      <td>2020-03-03</td>\n",
       "      <td>0</td>\n",
       "      <td>male</td>\n",
       "      <td>1810</td>\n",
       "      <td>16</td>\n",
       "    </tr>\n",
       "    <tr>\n",
       "      <th>3</th>\n",
       "      <td>2020-03-03</td>\n",
       "      <td>0</td>\n",
       "      <td>female</td>\n",
       "      <td>3002</td>\n",
       "      <td>12</td>\n",
       "    </tr>\n",
       "    <tr>\n",
       "      <th>4</th>\n",
       "      <td>2020-03-04</td>\n",
       "      <td>0</td>\n",
       "      <td>male</td>\n",
       "      <td>1996</td>\n",
       "      <td>20</td>\n",
       "    </tr>\n",
       "  </tbody>\n",
       "</table>\n",
       "</div>"
      ],
      "text/plain": [
       "         date  time     sex  confirmed  deceased\n",
       "0  2020-03-02     0    male       1591        13\n",
       "1  2020-03-02     0  female       2621         9\n",
       "2  2020-03-03     0    male       1810        16\n",
       "3  2020-03-03     0  female       3002        12\n",
       "4  2020-03-04     0    male       1996        20"
      ]
     },
     "execution_count": 4,
     "metadata": {},
     "output_type": "execute_result"
    }
   ],
   "source": [
    "df.head()"
   ]
  },
  {
   "cell_type": "code",
   "execution_count": 5,
   "metadata": {},
   "outputs": [],
   "source": [
    "#성별 확진자 리스트별로 변수에 저장\n",
    "Male = df.loc[df.sex=='male', ['date', 'confirmed']]\n",
    "Female = df.loc[df.sex=='female', ['date', 'confirmed']]"
   ]
  },
  {
   "cell_type": "code",
   "execution_count": 6,
   "metadata": {},
   "outputs": [
    {
     "data": {
      "image/png": "[encoded data removed]",
      "text/plain": [
       "<Figure size 432x288 with 1 Axes>"
      ]
     },
     "metadata": {
      "needs_background": "light"
     },
     "output_type": "display_data"
    }
   ],
   "source": [
    "# 성별 확진자수 비교\n",
    "fig, ax = plt.subplots()\n",
    "ax.set_xticks(np.arange(0,150,30))\n",
    "ax.set_yticks(np.arange(0,8000,1000))\n",
    "ax.stackplot(Female['date'], Female['confirmed'], color='#FF7A5A', labels='Female')\n",
    "ax.stackplot(Male['date'], Male['confirmed'], color='#00AAA0', labels='Male' )\n",
    "ax.set_xlabel('day')\n",
    "ax.set_ylabel('confirmed')\n",
    "ax.legend()\n",
    "plt.show()"
   ]
  },
  {
   "cell_type": "code",
   "execution_count": 7,
   "metadata": {},
   "outputs": [],
   "source": [
    "Male = df.loc[df.sex=='male', ['date', 'deceased']]\n",
    "Female = df.loc[df.sex=='female', ['date', 'deceased']]"
   ]
  },
  {
   "cell_type": "code",
   "execution_count": 8,
   "metadata": {},
   "outputs": [
    {
     "data": {
      "image/png": "[encoded data removed]",
      "text/plain": [
       "<Figure size 432x288 with 1 Axes>"
      ]
     },
     "metadata": {
      "needs_background": "light"
     },
     "output_type": "display_data"
    }
   ],
   "source": [
    "# 성별 사망률 비교\n",
    "fig, ax = plt.subplots()\n",
    "ax.set_xticks(np.arange(0,150,30))\n",
    "ax.set_yticks(np.arange(0,8000,1000))\n",
    "ax.stackplot(Male['date'], Male['deceased'], color='#00AAA0', labels='Male' )\n",
    "ax.stackplot(Female['date'], Female['deceased'], color='#FF7A5A', labels='Female')\n",
    "ax.set_xlabel('day')\n",
    "ax.set_ylabel('confirmed')\n",
    "ax.legend()\n",
    "plt.show()"
   ]
  },
  {
   "cell_type": "code",
   "execution_count": null,
   "metadata": {},
   "outputs": [],
   "source": []
  }
 ],
 "metadata": {
  "kernelspec": {
   "display_name": "Python 3",
   "language": "python",
   "name": "python3"
  },
  "language_info": {
   "codemirror_mode": {
    "name": "ipython",
    "version": 3
   },
   "file_extension": ".py",
   "mimetype": "text/x-python",
   "name": "python",
   "nbconvert_exporter": "python",
   "pygments_lexer": "ipython3",
   "version": "3.7.6"
  }
 },
 "nbformat": 4,
 "nbformat_minor": 4
}
